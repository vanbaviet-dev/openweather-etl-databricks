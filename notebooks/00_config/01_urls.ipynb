{
 "cells": [
  {
   "cell_type": "code",
   "execution_count": 0,
   "metadata": {
    "application/vnd.databricks.v1+cell": {
     "cellMetadata": {
      "byteLimit": 2048000,
      "rowLimit": 10000
     },
     "inputWidgets": {},
     "nuid": "649d1ba4-b5eb-4644-9888-e63a362c799b",
     "showTitle": false,
     "tableResultSettingsMap": {},
     "title": ""
    }
   },
   "outputs": [],
   "source": [
    "# OpenWeatherMap API Base URL\n",
    "OPENWEATHER_API_BASE_URL = \"https://api.openweathermap.org/data/3.0/onecall\"\n",
    "\n",
    "# Đường dẫn base cho dữ liệu Delta Lake trong ADLS Gen2\n",
    "# Lưu ý: Đây là đường dẫn base, các thư mục bronze/silver/gold sẽ được thêm sau\n",
    "ADLS_DATA_LAKE_BASE_PATH = \"abfss://data@vanbavietdatalake.dfs.core.windows.net/\"\n",
    "\n",
    "# Tên container/file system chính\n",
    "ADLS_MAIN_CONTAINER = \"data\"\n",
    "\n",
    "# Đường dẫn đến các layer dữ liệu\n",
    "BRONZE_LAYER_PATH = f\"{ADLS_DATA_LAKE_BASE_PATH}bronze/\"\n",
    "SILVER_LAYER_PATH = f\"{ADLS_DATA_LAKE_BASE_PATH}silver/\"\n",
    "GOLD_LAYER_PATH = f\"{ADLS_DATA_LAKE_BASE_PATH}gold/\"\n",
    "\n",
    "print(\"Common URLs and paths loaded.\")"
   ]
  }
 ],
 "metadata": {
  "application/vnd.databricks.v1+notebook": {
   "computePreferences": null,
   "dashboards": [],
   "environmentMetadata": {
    "base_environment": "",
    "environment_version": "2"
   },
   "inputWidgetPreferences": null,
   "language": "python",
   "notebookMetadata": {
    "pythonIndentUnit": 4
   },
   "notebookName": "01_urls",
   "widgets": {}
  },
  "language_info": {
   "name": "python"
  }
 },
 "nbformat": 4,
 "nbformat_minor": 0
}
