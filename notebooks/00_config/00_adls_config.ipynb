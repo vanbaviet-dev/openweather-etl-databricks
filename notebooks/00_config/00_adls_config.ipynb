{
 "cells": [
  {
   "cell_type": "code",
   "execution_count": 0,
   "metadata": {
    "application/vnd.databricks.v1+cell": {
     "cellMetadata": {
      "byteLimit": 2048000,
      "rowLimit": 10000
     },
     "inputWidgets": {},
     "nuid": "5ff69b3d-77b5-4296-995c-20716131a577",
     "showTitle": false,
     "tableResultSettingsMap": {},
     "title": ""
    }
   },
   "outputs": [],
   "source": [
    "access_key = dbutils.secrets.get(scope=\"azure\", key=\"adls-key\")\n",
    "account_storage = dbutils.secrets.get(scope=\"azure\", key=\"adls-account-name\")\n",
    "\n",
    "spark.conf.set(\n",
    "  f\"fs.azure.account.key.{account_storage}.dfs.core.windows.net\",\n",
    "  access_key\n",
    ")\n",
    "print(\"ADLS Configured\")"
   ]
  }
 ],
 "metadata": {
  "application/vnd.databricks.v1+notebook": {
   "computePreferences": null,
   "dashboards": [],
   "environmentMetadata": {
    "base_environment": "",
    "environment_version": "2"
   },
   "inputWidgetPreferences": null,
   "language": "python",
   "notebookMetadata": {
    "pythonIndentUnit": 4
   },
   "notebookName": "00_adls_config",
   "widgets": {}
  },
  "language_info": {
   "name": "python"
  }
 },
 "nbformat": 4,
 "nbformat_minor": 0
}
