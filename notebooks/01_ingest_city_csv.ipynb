{
 "cells": [
  {
   "cell_type": "code",
   "execution_count": 0,
   "metadata": {
    "application/vnd.databricks.v1+cell": {
     "cellMetadata": {
      "byteLimit": 2048000,
      "rowLimit": 10000
     },
     "inputWidgets": {},
     "nuid": "cc8dfa40-7a6b-4d0d-b398-05382a0326a2",
     "showTitle": false,
     "tableResultSettingsMap": {},
     "title": ""
    }
   },
   "outputs": [],
   "source": [
    "%run \"./00_config_storage\""
   ]
  },
  {
   "cell_type": "code",
   "execution_count": 0,
   "metadata": {
    "application/vnd.databricks.v1+cell": {
     "cellMetadata": {
      "byteLimit": 2048000,
      "rowLimit": 10000
     },
     "inputWidgets": {},
     "nuid": "393c444a-a54d-486d-8812-df5b324e750f",
     "showTitle": false,
     "tableResultSettingsMap": {},
     "title": ""
    }
   },
   "outputs": [],
   "source": [
    "from pyspark.sql.functions import when, col, regexp_replace, trim\n",
    "\n",
    "df = spark.read.csv(\"abfss://raw@vanbavietdatalake.dfs.core.windows.net/city.csv\", header=True, inferSchema=True)\n",
    "#rename column\n",
    "df_rename_col=df.withColumnRenamed(\"lat\",\"latitude\").withColumnRenamed(\"lon\",\"longitude\")\n",
    "#remove null value\n",
    "df_fix_null = df_rename_col.withColumn(\"state_clean\",when(col(\"state\").isNull(),trim(\n",
    "            regexp_replace(col(\"city\"), r\"(?i)^thành\\s+ph[ốo]\\s*\", \"\")\n",
    "        )).otherwise(col(\"state\")))\n",
    "\n",
    "df_fix_null.select(\"country\",\"city\",\"state_clean\",\"latitude\",\"longitude\").show(truncate=False)\n",
    "df_fix_null.write.mode(\"overwrite\").parquet(\"abfss://raw@vanbavietdatalake.dfs.core.windows.net/city_clean.parquet\")\n"
   ]
  }
 ],
 "metadata": {
  "application/vnd.databricks.v1+notebook": {
   "computePreferences": null,
   "dashboards": [],
   "environmentMetadata": {
    "base_environment": "",
    "environment_version": "2"
   },
   "inputWidgetPreferences": null,
   "language": "python",
   "notebookMetadata": {
    "pythonIndentUnit": 4
   },
   "notebookName": "01_ingest_city_csv",
   "widgets": {}
  },
  "language_info": {
   "name": "python"
  }
 },
 "nbformat": 4,
 "nbformat_minor": 0
}
